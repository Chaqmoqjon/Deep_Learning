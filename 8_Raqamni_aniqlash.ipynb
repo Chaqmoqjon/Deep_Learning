{
  "nbformat": 4,
  "nbformat_minor": 0,
  "metadata": {
    "colab": {
      "provenance": [],
      "gpuType": "T4",
      "authorship_tag": "ABX9TyMfKF2dPQS37jvFlPuu/ZgT",
      "include_colab_link": true
    },
    "kernelspec": {
      "name": "python3",
      "display_name": "Python 3"
    },
    "language_info": {
      "name": "python"
    },
    "accelerator": "GPU"
  },
  "cells": [
    {
      "cell_type": "markdown",
      "metadata": {
        "id": "view-in-github",
        "colab_type": "text"
      },
      "source": [
        "<a href=\"https://colab.research.google.com/github/SardorbekAI/Deep_Learning/blob/main/8_Raqamni_aniqlash.ipynb\" target=\"_parent\"><img src=\"https://colab.research.google.com/assets/colab-badge.svg\" alt=\"Open In Colab\"/></a>"
      ]
    },
    {
      "cell_type": "code",
      "execution_count": null,
      "metadata": {
        "id": "uDN7n8WBe5zZ"
      },
      "outputs": [],
      "source": [
        "import fastai\n",
        "import torch"
      ]
    },
    {
      "cell_type": "code",
      "source": [
        "from fastai.vision.all import *"
      ],
      "metadata": {
        "id": "WsWahnHWfIYV"
      },
      "execution_count": null,
      "outputs": []
    },
    {
      "cell_type": "code",
      "source": [
        "#raqamlardan iborat data yuklandi\n",
        "path = untar_data(URLs.MNIST_SAMPLE)\n",
        "path.ls()"
      ],
      "metadata": {
        "colab": {
          "base_uri": "https://localhost:8080/",
          "height": 54
        },
        "id": "P7jIoLkQfIUy",
        "outputId": "3c1f805b-88db-415f-fbc5-be18aea3f782"
      },
      "execution_count": null,
      "outputs": [
        {
          "output_type": "display_data",
          "data": {
            "text/plain": [
              "<IPython.core.display.HTML object>"
            ],
            "text/html": [
              "\n",
              "<style>\n",
              "    /* Turns off some styling */\n",
              "    progress {\n",
              "        /* gets rid of default border in Firefox and Opera. */\n",
              "        border: none;\n",
              "        /* Needs to be in here for Safari polyfill so background images work as expected. */\n",
              "        background-size: auto;\n",
              "    }\n",
              "    progress:not([value]), progress:not([value])::-webkit-progress-bar {\n",
              "        background: repeating-linear-gradient(45deg, #7e7e7e, #7e7e7e 10px, #5c5c5c 10px, #5c5c5c 20px);\n",
              "    }\n",
              "    .progress-bar-interrupted, .progress-bar-interrupted::-webkit-progress-bar {\n",
              "        background: #F44336;\n",
              "    }\n",
              "</style>\n"
            ]
          },
          "metadata": {}
        },
        {
          "output_type": "display_data",
          "data": {
            "text/plain": [
              "<IPython.core.display.HTML object>"
            ],
            "text/html": [
              "\n",
              "    <div>\n",
              "      <progress value='3219456' class='' max='3214948' style='width:300px; height:20px; vertical-align: middle;'></progress>\n",
              "      100.14% [3219456/3214948 00:00&lt;00:00]\n",
              "    </div>\n",
              "    "
            ]
          },
          "metadata": {}
        },
        {
          "output_type": "execute_result",
          "data": {
            "text/plain": [
              "(#3) [Path('/root/.fastai/data/mnist_sample/train'),Path('/root/.fastai/data/mnist_sample/valid'),Path('/root/.fastai/data/mnist_sample/labels.csv')]"
            ]
          },
          "metadata": {},
          "execution_count": 3
        }
      ]
    },
    {
      "cell_type": "code",
      "source": [
        "#train uchun 3 va 7 raqamlarini rasmlari yuklab olindi\n",
        "threes = (path/'train'/'3').ls().sorted()\n",
        "sevens = (path/'train'/'7').ls().sorted()"
      ],
      "metadata": {
        "id": "Zz0tbPV_fISo"
      },
      "execution_count": null,
      "outputs": []
    },
    {
      "cell_type": "code",
      "source": [
        "#tekshirildi\n",
        "img3_sample = threes[1]\n",
        "img3 = Image.open(img3_sample)\n",
        "img3"
      ],
      "metadata": {
        "colab": {
          "base_uri": "https://localhost:8080/",
          "height": 45
        },
        "id": "IF7qXdp8fIOp",
        "outputId": "0c2a9405-0bb5-4703-fecb-99c7db477a8c"
      },
      "execution_count": null,
      "outputs": [
        {
          "output_type": "execute_result",
          "data": {
            "text/plain": [
              "<PIL.PngImagePlugin.PngImageFile image mode=L size=28x28>"
            ],
            "image/png": "[encoded data removed]",
            "image/jpeg": "[encoded data removed]"
          },
          "metadata": {},
          "execution_count": 5
        }
      ]
    },
    {
      "cell_type": "code",
      "source": [
        "#tekshirildi\n",
        "img7_sample = sevens[1]\n",
        "img7 = Image.open(img7_sample)\n",
        "img7"
      ],
      "metadata": {
        "colab": {
          "base_uri": "https://localhost:8080/",
          "height": 45
        },
        "id": "oAYQ99UBfIIO",
        "outputId": "66656726-e170-496e-ba1e-7c50dbbc23da"
      },
      "execution_count": null,
      "outputs": [
        {
          "output_type": "execute_result",
          "data": {
            "text/plain": [
              "<PIL.PngImagePlugin.PngImageFile image mode=L size=28x28>"
            ],
            "image/png": "[encoded data removed]",
            "image/jpeg": "[encoded data removed]"
          },
          "metadata": {},
          "execution_count": 6
        }
      ]
    },
    {
      "cell_type": "code",
      "source": [
        "#np.array ning qisqartmasi. rasmning arraydagi ko'rinishi\n",
        "array(img3)[4:10, 4:10]"
      ],
      "metadata": {
        "colab": {
          "base_uri": "https://localhost:8080/"
        },
        "id": "0tZ54qB5fIFA",
        "outputId": "e5a2e360-0778-4cc5-a2f0-0d150e5f0f8e"
      },
      "execution_count": null,
      "outputs": [
        {
          "output_type": "execute_result",
          "data": {
            "text/plain": [
              "array([[  0,   0,   0,   0,   0,   0],\n",
              "       [  0,   0,   0,   0,   0,  29],\n",
              "       [  0,   0,   0,  48, 166, 224],\n",
              "       [  0,  93, 244, 249, 253, 187],\n",
              "       [  0, 107, 253, 253, 230,  48],\n",
              "       [  0,   3,  20,  20,  15,   0]], dtype=uint8)"
            ]
          },
          "metadata": {},
          "execution_count": 7
        }
      ]
    },
    {
      "cell_type": "code",
      "source": [
        "#tensor bilan DL da uchun. rasmning arraydagi ko'rinishi\n",
        "tensor(img3)[4:10, 4:10]"
      ],
      "metadata": {
        "colab": {
          "base_uri": "https://localhost:8080/"
        },
        "id": "5AY8Ee2qfICc",
        "outputId": "e3a7dee9-0c1d-4ae4-8a94-70219c5ea285"
      },
      "execution_count": null,
      "outputs": [
        {
          "output_type": "execute_result",
          "data": {
            "text/plain": [
              "tensor([[  0,   0,   0,   0,   0,   0],\n",
              "        [  0,   0,   0,   0,   0,  29],\n",
              "        [  0,   0,   0,  48, 166, 224],\n",
              "        [  0,  93, 244, 249, 253, 187],\n",
              "        [  0, 107, 253, 253, 230,  48],\n",
              "        [  0,   3,  20,  20,  15,   0]], dtype=torch.uint8)"
            ]
          },
          "metadata": {},
          "execution_count": 8
        }
      ]
    },
    {
      "cell_type": "code",
      "source": [
        "import pandas as pd"
      ],
      "metadata": {
        "id": "U6QertAWfH_2"
      },
      "execution_count": null,
      "outputs": []
    },
    {
      "cell_type": "code",
      "source": [
        "#rasmni raqamli qiymatlarda ko'rish\n",
        "img3_t = tensor(img3)\n",
        "df = pd.DataFrame(img3_t[4:26, 4:22])\n",
        "df.style.set_properties(**{'font-size' : '6pt'}).background_gradient('Greys')"
      ],
      "metadata": {
        "colab": {
          "base_uri": "https://localhost:8080/",
          "height": 739
        },
        "id": "9wW6_bYtfH9v",
        "outputId": "210a4a4d-f8f7-4486-9b42-bd7f3298626a"
      },
      "execution_count": null,
      "outputs": [
        {
          "output_type": "execute_result",
          "data": {
            "text/plain": [
              "<pandas.io.formats.style.Styler at 0x7bb34d0e3310>"
            ],
            "text/html": [
              "<style type=\"text/css\">\n",
              "#T_3fc4b_row0_col0, #T_3fc4b_row0_col1, #T_3fc4b_row0_col2, #T_3fc4b_row0_col3, #T_3fc4b_row0_col4, #T_3fc4b_row0_col5, #T_3fc4b_row0_col6, #T_3fc4b_row0_col7, #T_3fc4b_row0_col8, #T_3fc4b_row0_col9, #T_3fc4b_row0_col10, #T_3fc4b_row0_col11, #T_3fc4b_row0_col12, #T_3fc4b_row0_col13, #T_3fc4b_row0_col14, #T_3fc4b_row0_col15, #T_3fc4b_row0_col16, #T_3fc4b_row0_col17, #T_3fc4b_row1_col0, #T_3fc4b_row1_col1, #T_3fc4b_row1_col2, #T_3fc4b_row1_col3, #T_3fc4b_row1_col4, #T_3fc4b_row1_col15, #T_3fc4b_row1_col16, #T_3fc4b_row1_col17, #T_3fc4b_row2_col0, #T_3fc4b_row2_col1, #T_3fc4b_row2_col2, #T_3fc4b_row2_col15, #T_3fc4b_row2_col16, #T_3fc4b_row2_col17, #T_3fc4b_row3_col0, #T_3fc4b_row3_col15, #T_3fc4b_row3_col16, #T_3fc4b_row3_col17, #T_3fc4b_row4_col0, #T_3fc4b_row4_col6, #T_3fc4b_row4_col7, #T_3fc4b_row4_col8, #T_3fc4b_row4_col9, #T_3fc4b_row4_col10, #T_3fc4b_row4_col15, #T_3fc4b_row4_col16, #T_3fc4b_row4_col17, #T_3fc4b_row5_col0, #T_3fc4b_row5_col5, #T_3fc4b_row5_col6, #T_3fc4b_row5_col7, #T_3fc4b_row5_col8, #T_3fc4b_row5_col9, #T_3fc4b_row5_col15, #T_3fc4b_row5_col16, #T_3fc4b_row5_col17, #T_3fc4b_row6_col0, #T_3fc4b_row6_col1, #T_3fc4b_row6_col2, #T_3fc4b_row6_col3, #T_3fc4b_row6_col4, #T_3fc4b_row6_col5, #T_3fc4b_row6_col6, #T_3fc4b_row6_col7, #T_3fc4b_row6_col8, #T_3fc4b_row6_col9, #T_3fc4b_row6_col14, #T_3fc4b_row6_col15, #T_3fc4b_row6_col16, #T_3fc4b_row6_col17, #T_3fc4b_row7_col0, #T_3fc4b_row7_col1, #T_3fc4b_row7_col2, #T_3fc4b_row7_col3, #T_3fc4b_row7_col4, #T_3fc4b_row7_col5, #T_3fc4b_row7_col6, #T_3fc4b_row7_col13, #T_3fc4b_row7_col14, #T_3fc4b_row7_col15, #T_3fc4b_row7_col16, #T_3fc4b_row7_col17, #T_3fc4b_row8_col0, #T_3fc4b_row8_col1, #T_3fc4b_row8_col2, #T_3fc4b_row8_col3, #T_3fc4b_row8_col4, #T_3fc4b_row8_col13, #T_3fc4b_row8_col14, #T_3fc4b_row8_col15, #T_3fc4b_row8_col16, #T_3fc4b_row8_col17, #T_3fc4b_row9_col0, #T_3fc4b_row9_col1, #T_3fc4b_row9_col2, #T_3fc4b_row9_col3, #T_3fc4b_row9_col4, #T_3fc4b_row9_col16, #T_3fc4b_row9_col17, #T_3fc4b_row10_col0, #T_3fc4b_row10_col1, #T_3fc4b_row10_col2, #T_3fc4b_row10_col3, #T_3fc4b_row10_col4, #T_3fc4b_row10_col5, #T_3fc4b_row10_col6, #T_3fc4b_row10_col17, #T_3fc4b_row11_col0, #T_3fc4b_row11_col1, #T_3fc4b_row11_col2, #T_3fc4b_row11_col3, #T_3fc4b_row11_col4, #T_3fc4b_row11_col5, #T_3fc4b_row11_col6, #T_3fc4b_row11_col7, #T_3fc4b_row11_col8, #T_3fc4b_row11_col9, #T_3fc4b_row11_col17, #T_3fc4b_row12_col0, #T_3fc4b_row12_col1, #T_3fc4b_row12_col2, #T_3fc4b_row12_col3, #T_3fc4b_row12_col4, #T_3fc4b_row12_col5, #T_3fc4b_row12_col6, #T_3fc4b_row12_col7, #T_3fc4b_row12_col8, #T_3fc4b_row12_col9, #T_3fc4b_row12_col10, #T_3fc4b_row12_col11, #T_3fc4b_row12_col12, #T_3fc4b_row12_col17, #T_3fc4b_row13_col0, #T_3fc4b_row13_col1, #T_3fc4b_row13_col2, #T_3fc4b_row13_col3, #T_3fc4b_row13_col4, #T_3fc4b_row13_col5, #T_3fc4b_row13_col6, #T_3fc4b_row13_col7, #T_3fc4b_row13_col8, #T_3fc4b_row13_col9, #T_3fc4b_row13_col10, #T_3fc4b_row13_col11, #T_3fc4b_row13_col12, #T_3fc4b_row13_col17, #T_3fc4b_row14_col0, #T_3fc4b_row14_col1, #T_3fc4b_row14_col2, #T_3fc4b_row14_col3, #T_3fc4b_row14_col4, #T_3fc4b_row14_col5, #T_3fc4b_row14_col6, #T_3fc4b_row14_col7, #T_3fc4b_row14_col8, #T_3fc4b_row14_col9, #T_3fc4b_row14_col10, #T_3fc4b_row14_col11, #T_3fc4b_row14_col17, #T_3fc4b_row15_col0, #T_3fc4b_row15_col1, #T_3fc4b_row15_col2, #T_3fc4b_row15_col3, #T_3fc4b_row15_col4, #T_3fc4b_row15_col5, #T_3fc4b_row15_col6, #T_3fc4b_row15_col7, #T_3fc4b_row15_col8, #T_3fc4b_row15_col9, #T_3fc4b_row15_col10, #T_3fc4b_row15_col17, #T_3fc4b_row16_col0, #T_3fc4b_row16_col1, #T_3fc4b_row16_col2, #T_3fc4b_row16_col3, #T_3fc4b_row16_col4, #T_3fc4b_row16_col5, #T_3fc4b_row16_col6, #T_3fc4b_row16_col7, #T_3fc4b_row16_col8, #T_3fc4b_row16_col9, #T_3fc4b_row16_col16, #T_3fc4b_row16_col17, #T_3fc4b_row17_col0, #T_3fc4b_row17_col1, #T_3fc4b_row17_col2, #T_3fc4b_row17_col3, #T_3fc4b_row17_col4, #T_3fc4b_row17_col5, #T_3fc4b_row17_col6, #T_3fc4b_row17_col7, #T_3fc4b_row17_col15, #T_3fc4b_row17_col16, #T_3fc4b_row17_col17, #T_3fc4b_row18_col0, #T_3fc4b_row18_col1, #T_3fc4b_row18_col14, #T_3fc4b_row18_col15, #T_3fc4b_row18_col16, #T_3fc4b_row18_col17, #T_3fc4b_row19_col0, #T_3fc4b_row19_col1, #T_3fc4b_row19_col12, #T_3fc4b_row19_col13, #T_3fc4b_row19_col14, #T_3fc4b_row19_col15, #T_3fc4b_row19_col16, #T_3fc4b_row19_col17, #T_3fc4b_row20_col0, #T_3fc4b_row20_col1, #T_3fc4b_row20_col10, #T_3fc4b_row20_col11, #T_3fc4b_row20_col12, #T_3fc4b_row20_col13, #T_3fc4b_row20_col14, #T_3fc4b_row20_col15, #T_3fc4b_row20_col16, #T_3fc4b_row20_col17, #T_3fc4b_row21_col0, #T_3fc4b_row21_col1, #T_3fc4b_row21_col2, #T_3fc4b_row21_col3, #T_3fc4b_row21_col4, #T_3fc4b_row21_col5, #T_3fc4b_row21_col6, #T_3fc4b_row21_col7, #T_3fc4b_row21_col8, #T_3fc4b_row21_col9, #T_3fc4b_row21_col10, #T_3fc4b_row21_col11, #T_3fc4b_row21_col12, #T_3fc4b_row21_col13, #T_3fc4b_row21_col14, #T_3fc4b_row21_col15, #T_3fc4b_row21_col16, #T_3fc4b_row21_col17 {\n",
              "  font-size: 6pt;\n",
              "  background-color: #ffffff;\n",
              "  color: #000000;\n",
              "}\n",
              "#T_3fc4b_row1_col5, #T_3fc4b_row8_col12 {\n",
              "  font-size: 6pt;\n",
              "  background-color: #f1f1f1;\n",
              "  color: #000000;\n",
              "}\n",
              "#T_3fc4b_row1_col6, #T_3fc4b_row1_col13 {\n",
              "  font-size: 6pt;\n",
              "  background-color: #7c7c7c;\n",
              "  color: #f1f1f1;\n",
              "}\n",
              "#T_3fc4b_row1_col7 {\n",
              "  font-size: 6pt;\n",
              "  background-color: #4a4a4a;\n",
              "  color: #f1f1f1;\n",
              "}\n",
              "#T_3fc4b_row1_col8, #T_3fc4b_row1_col9, #T_3fc4b_row1_col10, #T_3fc4b_row2_col6, #T_3fc4b_row2_col7, #T_3fc4b_row2_col11, #T_3fc4b_row2_col12, #T_3fc4b_row2_col13, #T_3fc4b_row3_col4, #T_3fc4b_row3_col12, #T_3fc4b_row3_col13, #T_3fc4b_row4_col1, #T_3fc4b_row4_col2, #T_3fc4b_row4_col3, #T_3fc4b_row4_col12, #T_3fc4b_row4_col13, #T_3fc4b_row5_col12, #T_3fc4b_row6_col11, #T_3fc4b_row9_col11, #T_3fc4b_row10_col11, #T_3fc4b_row10_col12, #T_3fc4b_row10_col13, #T_3fc4b_row10_col14, #T_3fc4b_row11_col13, #T_3fc4b_row11_col14, #T_3fc4b_row11_col15, #T_3fc4b_row12_col14, #T_3fc4b_row12_col15, #T_3fc4b_row12_col16, #T_3fc4b_row13_col14, #T_3fc4b_row13_col15, #T_3fc4b_row14_col14, #T_3fc4b_row14_col15, #T_3fc4b_row15_col13, #T_3fc4b_row15_col14, #T_3fc4b_row16_col12, #T_3fc4b_row16_col13, #T_3fc4b_row17_col11, #T_3fc4b_row17_col12, #T_3fc4b_row19_col3, #T_3fc4b_row19_col4, #T_3fc4b_row19_col5, #T_3fc4b_row19_col6, #T_3fc4b_row19_col7, #T_3fc4b_row20_col3, #T_3fc4b_row20_col4, #T_3fc4b_row20_col5, #T_3fc4b_row20_col6, #T_3fc4b_row20_col7 {\n",
              "  font-size: 6pt;\n",
              "  background-color: #000000;\n",
              "  color: #f1f1f1;\n",
              "}\n",
              "#T_3fc4b_row1_col11 {\n",
              "  font-size: 6pt;\n",
              "  background-color: #606060;\n",
              "  color: #f1f1f1;\n",
              "}\n",
              "#T_3fc4b_row1_col12 {\n",
              "  font-size: 6pt;\n",
              "  background-color: #4d4d4d;\n",
              "  color: #f1f1f1;\n",
              "}\n",
              "#T_3fc4b_row1_col14 {\n",
              "  font-size: 6pt;\n",
              "  background-color: #bbbbbb;\n",
              "  color: #000000;\n",
              "}\n",
              "#T_3fc4b_row2_col3, #T_3fc4b_row4_col5 {\n",
              "  font-size: 6pt;\n",
              "  background-color: #e4e4e4;\n",
              "  color: #000000;\n",
              "}\n",
              "#T_3fc4b_row2_col4, #T_3fc4b_row8_col6 {\n",
              "  font-size: 6pt;\n",
              "  background-color: #6b6b6b;\n",
              "  color: #f1f1f1;\n",
              "}\n",
              "#T_3fc4b_row2_col5, #T_3fc4b_row5_col11 {\n",
              "  font-size: 6pt;\n",
              "  background-color: #222222;\n",
              "  color: #f1f1f1;\n",
              "}\n",
              "#T_3fc4b_row2_col8, #T_3fc4b_row2_col14, #T_3fc4b_row3_col14, #T_3fc4b_row17_col13 {\n",
              "  font-size: 6pt;\n",
              "  background-color: #171717;\n",
              "  color: #f1f1f1;\n",
              "}\n",
              "#T_3fc4b_row2_col9, #T_3fc4b_row3_col11 {\n",
              "  font-size: 6pt;\n",
              "  background-color: #4b4b4b;\n",
              "  color: #f1f1f1;\n",
              "}\n",
              "#T_3fc4b_row2_col10, #T_3fc4b_row7_col10, #T_3fc4b_row8_col8, #T_3fc4b_row8_col10, #T_3fc4b_row9_col8, #T_3fc4b_row9_col10, #T_3fc4b_row18_col10, #T_3fc4b_row19_col8 {\n",
              "  font-size: 6pt;\n",
              "  background-color: #010101;\n",
              "  color: #f1f1f1;\n",
              "}\n",
              "#T_3fc4b_row3_col1 {\n",
              "  font-size: 6pt;\n",
              "  background-color: #272727;\n",
              "  color: #f1f1f1;\n",
              "}\n",
              "#T_3fc4b_row3_col2 {\n",
              "  font-size: 6pt;\n",
              "  background-color: #0a0a0a;\n",
              "  color: #f1f1f1;\n",
              "}\n",
              "#T_3fc4b_row3_col3, #T_3fc4b_row14_col13 {\n",
              "  font-size: 6pt;\n",
              "  background-color: #050505;\n",
              "  color: #f1f1f1;\n",
              "}\n",
              "#T_3fc4b_row3_col5, #T_3fc4b_row8_col11, #T_3fc4b_row10_col15, #T_3fc4b_row19_col2 {\n",
              "  font-size: 6pt;\n",
              "  background-color: #545454;\n",
              "  color: #f1f1f1;\n",
              "}\n",
              "#T_3fc4b_row3_col6 {\n",
              "  font-size: 6pt;\n",
              "  background-color: #e6e6e6;\n",
              "  color: #000000;\n",
              "}\n",
              "#T_3fc4b_row3_col7, #T_3fc4b_row3_col10, #T_3fc4b_row8_col5 {\n",
              "  font-size: 6pt;\n",
              "  background-color: #fafafa;\n",
              "  color: #000000;\n",
              "}\n",
              "#T_3fc4b_row3_col8, #T_3fc4b_row11_col10, #T_3fc4b_row16_col15 {\n",
              "  font-size: 6pt;\n",
              "  background-color: #fbfbfb;\n",
              "  color: #000000;\n",
              "}\n",
              "#T_3fc4b_row3_col9 {\n",
              "  font-size: 6pt;\n",
              "  background-color: #fdfdfd;\n",
              "  color: #000000;\n",
              "}\n",
              "#T_3fc4b_row4_col4 {\n",
              "  font-size: 6pt;\n",
              "  background-color: #1b1b1b;\n",
              "  color: #f1f1f1;\n",
              "}\n",
              "#T_3fc4b_row4_col11 {\n",
              "  font-size: 6pt;\n",
              "  background-color: #4e4e4e;\n",
              "  color: #f1f1f1;\n",
              "}\n",
              "#T_3fc4b_row4_col14 {\n",
              "  font-size: 6pt;\n",
              "  background-color: #767676;\n",
              "  color: #f1f1f1;\n",
              "}\n",
              "#T_3fc4b_row5_col1 {\n",
              "  font-size: 6pt;\n",
              "  background-color: #fcfcfc;\n",
              "  color: #000000;\n",
              "}\n",
              "#T_3fc4b_row5_col2, #T_3fc4b_row5_col3, #T_3fc4b_row15_col16 {\n",
              "  font-size: 6pt;\n",
              "  background-color: #f6f6f6;\n",
              "  color: #000000;\n",
              "}\n",
              "#T_3fc4b_row5_col4, #T_3fc4b_row7_col7 {\n",
              "  font-size: 6pt;\n",
              "  background-color: #f8f8f8;\n",
              "  color: #000000;\n",
              "}\n",
              "#T_3fc4b_row5_col10, #T_3fc4b_row10_col7 {\n",
              "  font-size: 6pt;\n",
              "  background-color: #e8e8e8;\n",
              "  color: #000000;\n",
              "}\n",
              "#T_3fc4b_row5_col13, #T_3fc4b_row6_col12 {\n",
              "  font-size: 6pt;\n",
              "  background-color: #090909;\n",
              "  color: #f1f1f1;\n",
              "}\n",
              "#T_3fc4b_row5_col14 {\n",
              "  font-size: 6pt;\n",
              "  background-color: #d0d0d0;\n",
              "  color: #000000;\n",
              "}\n",
              "#T_3fc4b_row6_col10, #T_3fc4b_row7_col11, #T_3fc4b_row9_col6 {\n",
              "  font-size: 6pt;\n",
              "  background-color: #060606;\n",
              "  color: #f1f1f1;\n",
              "}\n",
              "#T_3fc4b_row6_col13 {\n",
              "  font-size: 6pt;\n",
              "  background-color: #979797;\n",
              "  color: #f1f1f1;\n",
              "}\n",
              "#T_3fc4b_row7_col8 {\n",
              "  font-size: 6pt;\n",
              "  background-color: #b6b6b6;\n",
              "  color: #000000;\n",
              "}\n",
              "#T_3fc4b_row7_col9 {\n",
              "  font-size: 6pt;\n",
              "  background-color: #252525;\n",
              "  color: #f1f1f1;\n",
              "}\n",
              "#T_3fc4b_row7_col12 {\n",
              "  font-size: 6pt;\n",
              "  background-color: #999999;\n",
              "  color: #f1f1f1;\n",
              "}\n",
              "#T_3fc4b_row8_col7, #T_3fc4b_row18_col8 {\n",
              "  font-size: 6pt;\n",
              "  background-color: #101010;\n",
              "  color: #f1f1f1;\n",
              "}\n",
              "#T_3fc4b_row8_col9, #T_3fc4b_row9_col9, #T_3fc4b_row17_col10, #T_3fc4b_row18_col9, #T_3fc4b_row19_col9 {\n",
              "  font-size: 6pt;\n",
              "  background-color: #020202;\n",
              "  color: #f1f1f1;\n",
              "}\n",
              "#T_3fc4b_row9_col5 {\n",
              "  font-size: 6pt;\n",
              "  background-color: #f7f7f7;\n",
              "  color: #000000;\n",
              "}\n",
              "#T_3fc4b_row9_col7, #T_3fc4b_row18_col11 {\n",
              "  font-size: 6pt;\n",
              "  background-color: #030303;\n",
              "  color: #f1f1f1;\n",
              "}\n",
              "#T_3fc4b_row9_col12 {\n",
              "  font-size: 6pt;\n",
              "  background-color: #181818;\n",
              "  color: #f1f1f1;\n",
              "}\n",
              "#T_3fc4b_row9_col13 {\n",
              "  font-size: 6pt;\n",
              "  background-color: #303030;\n",
              "  color: #f1f1f1;\n",
              "}\n",
              "#T_3fc4b_row9_col14 {\n",
              "  font-size: 6pt;\n",
              "  background-color: #a9a9a9;\n",
              "  color: #f1f1f1;\n",
              "}\n",
              "#T_3fc4b_row9_col15 {\n",
              "  font-size: 6pt;\n",
              "  background-color: #fefefe;\n",
              "  color: #000000;\n",
              "}\n",
              "#T_3fc4b_row10_col8, #T_3fc4b_row10_col9, #T_3fc4b_row16_col10 {\n",
              "  font-size: 6pt;\n",
              "  background-color: #bababa;\n",
              "  color: #000000;\n",
              "}\n",
              "#T_3fc4b_row10_col10 {\n",
              "  font-size: 6pt;\n",
              "  background-color: #393939;\n",
              "  color: #f1f1f1;\n",
              "}\n",
              "#T_3fc4b_row10_col16 {\n",
              "  font-size: 6pt;\n",
              "  background-color: #eaeaea;\n",
              "  color: #000000;\n",
              "}\n",
              "#T_3fc4b_row11_col11 {\n",
              "  font-size: 6pt;\n",
              "  background-color: #e2e2e2;\n",
              "  color: #000000;\n",
              "}\n",
              "#T_3fc4b_row11_col12 {\n",
              "  font-size: 6pt;\n",
              "  background-color: #9f9f9f;\n",
              "  color: #f1f1f1;\n",
              "}\n",
              "#T_3fc4b_row11_col16 {\n",
              "  font-size: 6pt;\n",
              "  background-color: #898989;\n",
              "  color: #f1f1f1;\n",
              "}\n",
              "#T_3fc4b_row12_col13 {\n",
              "  font-size: 6pt;\n",
              "  background-color: #585858;\n",
              "  color: #f1f1f1;\n",
              "}\n",
              "#T_3fc4b_row13_col13 {\n",
              "  font-size: 6pt;\n",
              "  background-color: #5a5a5a;\n",
              "  color: #f1f1f1;\n",
              "}\n",
              "#T_3fc4b_row13_col16 {\n",
              "  font-size: 6pt;\n",
              "  background-color: #525252;\n",
              "  color: #f1f1f1;\n",
              "}\n",
              "#T_3fc4b_row14_col12, #T_3fc4b_row19_col11 {\n",
              "  font-size: 6pt;\n",
              "  background-color: #c5c5c5;\n",
              "  color: #000000;\n",
              "}\n",
              "#T_3fc4b_row14_col16 {\n",
              "  font-size: 6pt;\n",
              "  background-color: #d7d7d7;\n",
              "  color: #000000;\n",
              "}\n",
              "#T_3fc4b_row15_col11, #T_3fc4b_row18_col5 {\n",
              "  font-size: 6pt;\n",
              "  background-color: #dcdcdc;\n",
              "  color: #000000;\n",
              "}\n",
              "#T_3fc4b_row15_col12 {\n",
              "  font-size: 6pt;\n",
              "  background-color: #2f2f2f;\n",
              "  color: #f1f1f1;\n",
              "}\n",
              "#T_3fc4b_row15_col15 {\n",
              "  font-size: 6pt;\n",
              "  background-color: #636363;\n",
              "  color: #f1f1f1;\n",
              "}\n",
              "#T_3fc4b_row16_col11 {\n",
              "  font-size: 6pt;\n",
              "  background-color: #070707;\n",
              "  color: #f1f1f1;\n",
              "}\n",
              "#T_3fc4b_row16_col14 {\n",
              "  font-size: 6pt;\n",
              "  background-color: #1f1f1f;\n",
              "  color: #f1f1f1;\n",
              "}\n",
              "#T_3fc4b_row17_col8, #T_3fc4b_row18_col2, #T_3fc4b_row18_col4 {\n",
              "  font-size: 6pt;\n",
              "  background-color: #e9e9e9;\n",
              "  color: #000000;\n",
              "}\n",
              "#T_3fc4b_row17_col9 {\n",
              "  font-size: 6pt;\n",
              "  background-color: #7d7d7d;\n",
              "  color: #f1f1f1;\n",
              "}\n",
              "#T_3fc4b_row17_col14 {\n",
              "  font-size: 6pt;\n",
              "  background-color: #e1e1e1;\n",
              "  color: #000000;\n",
              "}\n",
              "#T_3fc4b_row18_col3, #T_3fc4b_row18_col6 {\n",
              "  font-size: 6pt;\n",
              "  background-color: #a4a4a4;\n",
              "  color: #f1f1f1;\n",
              "}\n",
              "#T_3fc4b_row18_col7 {\n",
              "  font-size: 6pt;\n",
              "  background-color: #727272;\n",
              "  color: #f1f1f1;\n",
              "}\n",
              "#T_3fc4b_row18_col12 {\n",
              "  font-size: 6pt;\n",
              "  background-color: #616161;\n",
              "  color: #f1f1f1;\n",
              "}\n",
              "#T_3fc4b_row18_col13 {\n",
              "  font-size: 6pt;\n",
              "  background-color: #f3f3f3;\n",
              "  color: #000000;\n",
              "}\n",
              "#T_3fc4b_row19_col10 {\n",
              "  font-size: 6pt;\n",
              "  background-color: #484848;\n",
              "  color: #f1f1f1;\n",
              "}\n",
              "#T_3fc4b_row20_col2 {\n",
              "  font-size: 6pt;\n",
              "  background-color: #b3b3b3;\n",
              "  color: #000000;\n",
              "}\n",
              "#T_3fc4b_row20_col8 {\n",
              "  font-size: 6pt;\n",
              "  background-color: #1a1a1a;\n",
              "  color: #f1f1f1;\n",
              "}\n",
              "#T_3fc4b_row20_col9 {\n",
              "  font-size: 6pt;\n",
              "  background-color: #d6d6d6;\n",
              "  color: #000000;\n",
              "}\n",
              "</style>\n",
              "<table id=\"T_3fc4b\" class=\"dataframe\">\n",
              "  <thead>\n",
              "    <tr>\n",
              "      <th class=\"blank level0\" >&nbsp;</th>\n",
              "      <th id=\"T_3fc4b_level0_col0\" class=\"col_heading level0 col0\" >0</th>\n",
              "      <th id=\"T_3fc4b_level0_col1\" class=\"col_heading level0 col1\" >1</th>\n",
              "      <th id=\"T_3fc4b_level0_col2\" class=\"col_heading level0 col2\" >2</th>\n",
              "      <th id=\"T_3fc4b_level0_col3\" class=\"col_heading level0 col3\" >3</th>\n",
              "      <th id=\"T_3fc4b_level0_col4\" class=\"col_heading level0 col4\" >4</th>\n",
              "      <th id=\"T_3fc4b_level0_col5\" class=\"col_heading level0 col5\" >5</th>\n",
              "      <th id=\"T_3fc4b_level0_col6\" class=\"col_heading level0 col6\" >6</th>\n",
              "      <th id=\"T_3fc4b_level0_col7\" class=\"col_heading level0 col7\" >7</th>\n",
              "      <th id=\"T_3fc4b_level0_col8\" class=\"col_heading level0 col8\" >8</th>\n",
              "      <th id=\"T_3fc4b_level0_col9\" class=\"col_heading level0 col9\" >9</th>\n",
              "      <th id=\"T_3fc4b_level0_col10\" class=\"col_heading level0 col10\" >10</th>\n",
              "      <th id=\"T_3fc4b_level0_col11\" class=\"col_heading level0 col11\" >11</th>\n",
              "      <th id=\"T_3fc4b_level0_col12\" class=\"col_heading level0 col12\" >12</th>\n",
              "      <th id=\"T_3fc4b_level0_col13\" class=\"col_heading level0 col13\" >13</th>\n",
              "      <th id=\"T_3fc4b_level0_col14\" class=\"col_heading level0 col14\" >14</th>\n",
              "      <th id=\"T_3fc4b_level0_col15\" class=\"col_heading level0 col15\" >15</th>\n",
              "      <th id=\"T_3fc4b_level0_col16\" class=\"col_heading level0 col16\" >16</th>\n",
              "      <th id=\"T_3fc4b_level0_col17\" class=\"col_heading level0 col17\" >17</th>\n",
              "    </tr>\n",
              "  </thead>\n",
              "  <tbody>\n",
              "    <tr>\n",
              "      <th id=\"T_3fc4b_level0_row0\" class=\"row_heading level0 row0\" >0</th>\n",
              "      <td id=\"T_3fc4b_row0_col0\" class=\"data row0 col0\" >0</td>\n",
              "      <td id=\"T_3fc4b_row0_col1\" class=\"data row0 col1\" >0</td>\n",
              "      <td id=\"T_3fc4b_row0_col2\" class=\"data row0 col2\" >0</td>\n",
              "      <td id=\"T_3fc4b_row0_col3\" class=\"data row0 col3\" >0</td>\n",
              "      <td id=\"T_3fc4b_row0_col4\" class=\"data row0 col4\" >0</td>\n",
              "      <td id=\"T_3fc4b_row0_col5\" class=\"data row0 col5\" >0</td>\n",
              "      <td id=\"T_3fc4b_row0_col6\" class=\"data row0 col6\" >0</td>\n",
              "      <td id=\"T_3fc4b_row0_col7\" class=\"data row0 col7\" >0</td>\n",
              "      <td id=\"T_3fc4b_row0_col8\" class=\"data row0 col8\" >0</td>\n",
              "      <td id=\"T_3fc4b_row0_col9\" class=\"data row0 col9\" >0</td>\n",
              "      <td id=\"T_3fc4b_row0_col10\" class=\"data row0 col10\" >0</td>\n",
              "      <td id=\"T_3fc4b_row0_col11\" class=\"data row0 col11\" >0</td>\n",
              "      <td id=\"T_3fc4b_row0_col12\" class=\"data row0 col12\" >0</td>\n",
              "      <td id=\"T_3fc4b_row0_col13\" class=\"data row0 col13\" >0</td>\n",
              "      <td id=\"T_3fc4b_row0_col14\" class=\"data row0 col14\" >0</td>\n",
              "      <td id=\"T_3fc4b_row0_col15\" class=\"data row0 col15\" >0</td>\n",
              "      <td id=\"T_3fc4b_row0_col16\" class=\"data row0 col16\" >0</td>\n",
              "      <td id=\"T_3fc4b_row0_col17\" class=\"data row0 col17\" >0</td>\n",
              "    </tr>\n",
              "    <tr>\n",
              "      <th id=\"T_3fc4b_level0_row1\" class=\"row_heading level0 row1\" >1</th>\n",
              "      <td id=\"T_3fc4b_row1_col0\" class=\"data row1 col0\" >0</td>\n",
              "      <td id=\"T_3fc4b_row1_col1\" class=\"data row1 col1\" >0</td>\n",
              "      <td id=\"T_3fc4b_row1_col2\" class=\"data row1 col2\" >0</td>\n",
              "      <td id=\"T_3fc4b_row1_col3\" class=\"data row1 col3\" >0</td>\n",
              "      <td id=\"T_3fc4b_row1_col4\" class=\"data row1 col4\" >0</td>\n",
              "      <td id=\"T_3fc4b_row1_col5\" class=\"data row1 col5\" >29</td>\n",
              "      <td id=\"T_3fc4b_row1_col6\" class=\"data row1 col6\" >150</td>\n",
              "      <td id=\"T_3fc4b_row1_col7\" class=\"data row1 col7\" >195</td>\n",
              "      <td id=\"T_3fc4b_row1_col8\" class=\"data row1 col8\" >254</td>\n",
              "      <td id=\"T_3fc4b_row1_col9\" class=\"data row1 col9\" >255</td>\n",
              "      <td id=\"T_3fc4b_row1_col10\" class=\"data row1 col10\" >254</td>\n",
              "      <td id=\"T_3fc4b_row1_col11\" class=\"data row1 col11\" >176</td>\n",
              "      <td id=\"T_3fc4b_row1_col12\" class=\"data row1 col12\" >193</td>\n",
              "      <td id=\"T_3fc4b_row1_col13\" class=\"data row1 col13\" >150</td>\n",
              "      <td id=\"T_3fc4b_row1_col14\" class=\"data row1 col14\" >96</td>\n",
              "      <td id=\"T_3fc4b_row1_col15\" class=\"data row1 col15\" >0</td>\n",
              "      <td id=\"T_3fc4b_row1_col16\" class=\"data row1 col16\" >0</td>\n",
              "      <td id=\"T_3fc4b_row1_col17\" class=\"data row1 col17\" >0</td>\n",
              "    </tr>\n",
              "    <tr>\n",
              "      <th id=\"T_3fc4b_level0_row2\" class=\"row_heading level0 row2\" >2</th>\n",
              "      <td id=\"T_3fc4b_row2_col0\" class=\"data row2 col0\" >0</td>\n",
              "      <td id=\"T_3fc4b_row2_col1\" class=\"data row2 col1\" >0</td>\n",
              "      <td id=\"T_3fc4b_row2_col2\" class=\"data row2 col2\" >0</td>\n",
              "      <td id=\"T_3fc4b_row2_col3\" class=\"data row2 col3\" >48</td>\n",
              "      <td id=\"T_3fc4b_row2_col4\" class=\"data row2 col4\" >166</td>\n",
              "      <td id=\"T_3fc4b_row2_col5\" class=\"data row2 col5\" >224</td>\n",
              "      <td id=\"T_3fc4b_row2_col6\" class=\"data row2 col6\" >253</td>\n",
              "      <td id=\"T_3fc4b_row2_col7\" class=\"data row2 col7\" >253</td>\n",
              "      <td id=\"T_3fc4b_row2_col8\" class=\"data row2 col8\" >234</td>\n",
              "      <td id=\"T_3fc4b_row2_col9\" class=\"data row2 col9\" >196</td>\n",
              "      <td id=\"T_3fc4b_row2_col10\" class=\"data row2 col10\" >253</td>\n",
              "      <td id=\"T_3fc4b_row2_col11\" class=\"data row2 col11\" >253</td>\n",
              "      <td id=\"T_3fc4b_row2_col12\" class=\"data row2 col12\" >253</td>\n",
              "      <td id=\"T_3fc4b_row2_col13\" class=\"data row2 col13\" >253</td>\n",
              "      <td id=\"T_3fc4b_row2_col14\" class=\"data row2 col14\" >233</td>\n",
              "      <td id=\"T_3fc4b_row2_col15\" class=\"data row2 col15\" >0</td>\n",
              "      <td id=\"T_3fc4b_row2_col16\" class=\"data row2 col16\" >0</td>\n",
              "      <td id=\"T_3fc4b_row2_col17\" class=\"data row2 col17\" >0</td>\n",
              "    </tr>\n",
              "    <tr>\n",
              "      <th id=\"T_3fc4b_level0_row3\" class=\"row_heading level0 row3\" >3</th>\n",
              "      <td id=\"T_3fc4b_row3_col0\" class=\"data row3 col0\" >0</td>\n",
              "      <td id=\"T_3fc4b_row3_col1\" class=\"data row3 col1\" >93</td>\n",
              "      <td id=\"T_3fc4b_row3_col2\" class=\"data row3 col2\" >244</td>\n",
              "      <td id=\"T_3fc4b_row3_col3\" class=\"data row3 col3\" >249</td>\n",
              "      <td id=\"T_3fc4b_row3_col4\" class=\"data row3 col4\" >253</td>\n",
              "      <td id=\"T_3fc4b_row3_col5\" class=\"data row3 col5\" >187</td>\n",
              "      <td id=\"T_3fc4b_row3_col6\" class=\"data row3 col6\" >46</td>\n",
              "      <td id=\"T_3fc4b_row3_col7\" class=\"data row3 col7\" >10</td>\n",
              "      <td id=\"T_3fc4b_row3_col8\" class=\"data row3 col8\" >8</td>\n",
              "      <td id=\"T_3fc4b_row3_col9\" class=\"data row3 col9\" >4</td>\n",
              "      <td id=\"T_3fc4b_row3_col10\" class=\"data row3 col10\" >10</td>\n",
              "      <td id=\"T_3fc4b_row3_col11\" class=\"data row3 col11\" >194</td>\n",
              "      <td id=\"T_3fc4b_row3_col12\" class=\"data row3 col12\" >253</td>\n",
              "      <td id=\"T_3fc4b_row3_col13\" class=\"data row3 col13\" >253</td>\n",
              "      <td id=\"T_3fc4b_row3_col14\" class=\"data row3 col14\" >233</td>\n",
              "      <td id=\"T_3fc4b_row3_col15\" class=\"data row3 col15\" >0</td>\n",
              "      <td id=\"T_3fc4b_row3_col16\" class=\"data row3 col16\" >0</td>\n",
              "      <td id=\"T_3fc4b_row3_col17\" class=\"data row3 col17\" >0</td>\n",
              "    </tr>\n",
              "    <tr>\n",
              "      <th id=\"T_3fc4b_level0_row4\" class=\"row_heading level0 row4\" >4</th>\n",
              "      <td id=\"T_3fc4b_row4_col0\" class=\"data row4 col0\" >0</td>\n",
              "      <td id=\"T_3fc4b_row4_col1\" class=\"data row4 col1\" >107</td>\n",
              "      <td id=\"T_3fc4b_row4_col2\" class=\"data row4 col2\" >253</td>\n",
              "      <td id=\"T_3fc4b_row4_col3\" class=\"data row4 col3\" >253</td>\n",
              "      <td id=\"T_3fc4b_row4_col4\" class=\"data row4 col4\" >230</td>\n",
              "      <td id=\"T_3fc4b_row4_col5\" class=\"data row4 col5\" >48</td>\n",
              "      <td id=\"T_3fc4b_row4_col6\" class=\"data row4 col6\" >0</td>\n",
              "      <td id=\"T_3fc4b_row4_col7\" class=\"data row4 col7\" >0</td>\n",
              "      <td id=\"T_3fc4b_row4_col8\" class=\"data row4 col8\" >0</td>\n",
              "      <td id=\"T_3fc4b_row4_col9\" class=\"data row4 col9\" >0</td>\n",
              "      <td id=\"T_3fc4b_row4_col10\" class=\"data row4 col10\" >0</td>\n",
              "      <td id=\"T_3fc4b_row4_col11\" class=\"data row4 col11\" >192</td>\n",
              "      <td id=\"T_3fc4b_row4_col12\" class=\"data row4 col12\" >253</td>\n",
              "      <td id=\"T_3fc4b_row4_col13\" class=\"data row4 col13\" >253</td>\n",
              "      <td id=\"T_3fc4b_row4_col14\" class=\"data row4 col14\" >156</td>\n",
              "      <td id=\"T_3fc4b_row4_col15\" class=\"data row4 col15\" >0</td>\n",
              "      <td id=\"T_3fc4b_row4_col16\" class=\"data row4 col16\" >0</td>\n",
              "      <td id=\"T_3fc4b_row4_col17\" class=\"data row4 col17\" >0</td>\n",
              "    </tr>\n",
              "    <tr>\n",
              "      <th id=\"T_3fc4b_level0_row5\" class=\"row_heading level0 row5\" >5</th>\n",
              "      <td id=\"T_3fc4b_row5_col0\" class=\"data row5 col0\" >0</td>\n",
              "      <td id=\"T_3fc4b_row5_col1\" class=\"data row5 col1\" >3</td>\n",
              "      <td id=\"T_3fc4b_row5_col2\" class=\"data row5 col2\" >20</td>\n",
              "      <td id=\"T_3fc4b_row5_col3\" class=\"data row5 col3\" >20</td>\n",
              "      <td id=\"T_3fc4b_row5_col4\" class=\"data row5 col4\" >15</td>\n",
              "      <td id=\"T_3fc4b_row5_col5\" class=\"data row5 col5\" >0</td>\n",
              "      <td id=\"T_3fc4b_row5_col6\" class=\"data row5 col6\" >0</td>\n",
              "      <td id=\"T_3fc4b_row5_col7\" class=\"data row5 col7\" >0</td>\n",
              "      <td id=\"T_3fc4b_row5_col8\" class=\"data row5 col8\" >0</td>\n",
              "      <td id=\"T_3fc4b_row5_col9\" class=\"data row5 col9\" >0</td>\n",
              "      <td id=\"T_3fc4b_row5_col10\" class=\"data row5 col10\" >43</td>\n",
              "      <td id=\"T_3fc4b_row5_col11\" class=\"data row5 col11\" >224</td>\n",
              "      <td id=\"T_3fc4b_row5_col12\" class=\"data row5 col12\" >253</td>\n",
              "      <td id=\"T_3fc4b_row5_col13\" class=\"data row5 col13\" >245</td>\n",
              "      <td id=\"T_3fc4b_row5_col14\" class=\"data row5 col14\" >74</td>\n",
              "      <td id=\"T_3fc4b_row5_col15\" class=\"data row5 col15\" >0</td>\n",
              "      <td id=\"T_3fc4b_row5_col16\" class=\"data row5 col16\" >0</td>\n",
              "      <td id=\"T_3fc4b_row5_col17\" class=\"data row5 col17\" >0</td>\n",
              "    </tr>\n",
              "    <tr>\n",
              "      <th id=\"T_3fc4b_level0_row6\" class=\"row_heading level0 row6\" >6</th>\n",
              "      <td id=\"T_3fc4b_row6_col0\" class=\"data row6 col0\" >0</td>\n",
              "      <td id=\"T_3fc4b_row6_col1\" class=\"data row6 col1\" >0</td>\n",
              "      <td id=\"T_3fc4b_row6_col2\" class=\"data row6 col2\" >0</td>\n",
              "      <td id=\"T_3fc4b_row6_col3\" class=\"data row6 col3\" >0</td>\n",
              "      <td id=\"T_3fc4b_row6_col4\" class=\"data row6 col4\" >0</td>\n",
              "      <td id=\"T_3fc4b_row6_col5\" class=\"data row6 col5\" >0</td>\n",
              "      <td id=\"T_3fc4b_row6_col6\" class=\"data row6 col6\" >0</td>\n",
              "      <td id=\"T_3fc4b_row6_col7\" class=\"data row6 col7\" >0</td>\n",
              "      <td id=\"T_3fc4b_row6_col8\" class=\"data row6 col8\" >0</td>\n",
              "      <td id=\"T_3fc4b_row6_col9\" class=\"data row6 col9\" >0</td>\n",
              "      <td id=\"T_3fc4b_row6_col10\" class=\"data row6 col10\" >249</td>\n",
              "      <td id=\"T_3fc4b_row6_col11\" class=\"data row6 col11\" >253</td>\n",
              "      <td id=\"T_3fc4b_row6_col12\" class=\"data row6 col12\" >245</td>\n",
              "      <td id=\"T_3fc4b_row6_col13\" class=\"data row6 col13\" >126</td>\n",
              "      <td id=\"T_3fc4b_row6_col14\" class=\"data row6 col14\" >0</td>\n",
              "      <td id=\"T_3fc4b_row6_col15\" class=\"data row6 col15\" >0</td>\n",
              "      <td id=\"T_3fc4b_row6_col16\" class=\"data row6 col16\" >0</td>\n",
              "      <td id=\"T_3fc4b_row6_col17\" class=\"data row6 col17\" >0</td>\n",
              "    </tr>\n",
              "    <tr>\n",
              "      <th id=\"T_3fc4b_level0_row7\" class=\"row_heading level0 row7\" >7</th>\n",
              "      <td id=\"T_3fc4b_row7_col0\" class=\"data row7 col0\" >0</td>\n",
              "      <td id=\"T_3fc4b_row7_col1\" class=\"data row7 col1\" >0</td>\n",
              "      <td id=\"T_3fc4b_row7_col2\" class=\"data row7 col2\" >0</td>\n",
              "      <td id=\"T_3fc4b_row7_col3\" class=\"data row7 col3\" >0</td>\n",
              "      <td id=\"T_3fc4b_row7_col4\" class=\"data row7 col4\" >0</td>\n",
              "      <td id=\"T_3fc4b_row7_col5\" class=\"data row7 col5\" >0</td>\n",
              "      <td id=\"T_3fc4b_row7_col6\" class=\"data row7 col6\" >0</td>\n",
              "      <td id=\"T_3fc4b_row7_col7\" class=\"data row7 col7\" >14</td>\n",
              "      <td id=\"T_3fc4b_row7_col8\" class=\"data row7 col8\" >101</td>\n",
              "      <td id=\"T_3fc4b_row7_col9\" class=\"data row7 col9\" >223</td>\n",
              "      <td id=\"T_3fc4b_row7_col10\" class=\"data row7 col10\" >253</td>\n",
              "      <td id=\"T_3fc4b_row7_col11\" class=\"data row7 col11\" >248</td>\n",
              "      <td id=\"T_3fc4b_row7_col12\" class=\"data row7 col12\" >124</td>\n",
              "      <td id=\"T_3fc4b_row7_col13\" class=\"data row7 col13\" >0</td>\n",
              "      <td id=\"T_3fc4b_row7_col14\" class=\"data row7 col14\" >0</td>\n",
              "      <td id=\"T_3fc4b_row7_col15\" class=\"data row7 col15\" >0</td>\n",
              "      <td id=\"T_3fc4b_row7_col16\" class=\"data row7 col16\" >0</td>\n",
              "      <td id=\"T_3fc4b_row7_col17\" class=\"data row7 col17\" >0</td>\n",
              "    </tr>\n",
              "    <tr>\n",
              "      <th id=\"T_3fc4b_level0_row8\" class=\"row_heading level0 row8\" >8</th>\n",
              "      <td id=\"T_3fc4b_row8_col0\" class=\"data row8 col0\" >0</td>\n",
              "      <td id=\"T_3fc4b_row8_col1\" class=\"data row8 col1\" >0</td>\n",
              "      <td id=\"T_3fc4b_row8_col2\" class=\"data row8 col2\" >0</td>\n",
              "      <td id=\"T_3fc4b_row8_col3\" class=\"data row8 col3\" >0</td>\n",
              "      <td id=\"T_3fc4b_row8_col4\" class=\"data row8 col4\" >0</td>\n",
              "      <td id=\"T_3fc4b_row8_col5\" class=\"data row8 col5\" >11</td>\n",
              "      <td id=\"T_3fc4b_row8_col6\" class=\"data row8 col6\" >166</td>\n",
              "      <td id=\"T_3fc4b_row8_col7\" class=\"data row8 col7\" >239</td>\n",
              "      <td id=\"T_3fc4b_row8_col8\" class=\"data row8 col8\" >253</td>\n",
              "      <td id=\"T_3fc4b_row8_col9\" class=\"data row8 col9\" >253</td>\n",
              "      <td id=\"T_3fc4b_row8_col10\" class=\"data row8 col10\" >253</td>\n",
              "      <td id=\"T_3fc4b_row8_col11\" class=\"data row8 col11\" >187</td>\n",
              "      <td id=\"T_3fc4b_row8_col12\" class=\"data row8 col12\" >30</td>\n",
              "      <td id=\"T_3fc4b_row8_col13\" class=\"data row8 col13\" >0</td>\n",
              "      <td id=\"T_3fc4b_row8_col14\" class=\"data row8 col14\" >0</td>\n",
              "      <td id=\"T_3fc4b_row8_col15\" class=\"data row8 col15\" >0</td>\n",
              "      <td id=\"T_3fc4b_row8_col16\" class=\"data row8 col16\" >0</td>\n",
              "      <td id=\"T_3fc4b_row8_col17\" class=\"data row8 col17\" >0</td>\n",
              "    </tr>\n",
              "    <tr>\n",
              "      <th id=\"T_3fc4b_level0_row9\" class=\"row_heading level0 row9\" >9</th>\n",
              "      <td id=\"T_3fc4b_row9_col0\" class=\"data row9 col0\" >0</td>\n",
              "      <td id=\"T_3fc4b_row9_col1\" class=\"data row9 col1\" >0</td>\n",
              "      <td id=\"T_3fc4b_row9_col2\" class=\"data row9 col2\" >0</td>\n",
              "      <td id=\"T_3fc4b_row9_col3\" class=\"data row9 col3\" >0</td>\n",
              "      <td id=\"T_3fc4b_row9_col4\" class=\"data row9 col4\" >0</td>\n",
              "      <td id=\"T_3fc4b_row9_col5\" class=\"data row9 col5\" >16</td>\n",
              "      <td id=\"T_3fc4b_row9_col6\" class=\"data row9 col6\" >248</td>\n",
              "      <td id=\"T_3fc4b_row9_col7\" class=\"data row9 col7\" >250</td>\n",
              "      <td id=\"T_3fc4b_row9_col8\" class=\"data row9 col8\" >253</td>\n",
              "      <td id=\"T_3fc4b_row9_col9\" class=\"data row9 col9\" >253</td>\n",
              "      <td id=\"T_3fc4b_row9_col10\" class=\"data row9 col10\" >253</td>\n",
              "      <td id=\"T_3fc4b_row9_col11\" class=\"data row9 col11\" >253</td>\n",
              "      <td id=\"T_3fc4b_row9_col12\" class=\"data row9 col12\" >232</td>\n",
              "      <td id=\"T_3fc4b_row9_col13\" class=\"data row9 col13\" >213</td>\n",
              "      <td id=\"T_3fc4b_row9_col14\" class=\"data row9 col14\" >111</td>\n",
              "      <td id=\"T_3fc4b_row9_col15\" class=\"data row9 col15\" >2</td>\n",
              "      <td id=\"T_3fc4b_row9_col16\" class=\"data row9 col16\" >0</td>\n",
              "      <td id=\"T_3fc4b_row9_col17\" class=\"data row9 col17\" >0</td>\n",
              "    </tr>\n",
              "    <tr>\n",
              "      <th id=\"T_3fc4b_level0_row10\" class=\"row_heading level0 row10\" >10</th>\n",
              "      <td id=\"T_3fc4b_row10_col0\" class=\"data row10 col0\" >0</td>\n",
              "      <td id=\"T_3fc4b_row10_col1\" class=\"data row10 col1\" >0</td>\n",
              "      <td id=\"T_3fc4b_row10_col2\" class=\"data row10 col2\" >0</td>\n",
              "      <td id=\"T_3fc4b_row10_col3\" class=\"data row10 col3\" >0</td>\n",
              "      <td id=\"T_3fc4b_row10_col4\" class=\"data row10 col4\" >0</td>\n",
              "      <td id=\"T_3fc4b_row10_col5\" class=\"data row10 col5\" >0</td>\n",
              "      <td id=\"T_3fc4b_row10_col6\" class=\"data row10 col6\" >0</td>\n",
              "      <td id=\"T_3fc4b_row10_col7\" class=\"data row10 col7\" >43</td>\n",
              "      <td id=\"T_3fc4b_row10_col8\" class=\"data row10 col8\" >98</td>\n",
              "      <td id=\"T_3fc4b_row10_col9\" class=\"data row10 col9\" >98</td>\n",
              "      <td id=\"T_3fc4b_row10_col10\" class=\"data row10 col10\" >208</td>\n",
              "      <td id=\"T_3fc4b_row10_col11\" class=\"data row10 col11\" >253</td>\n",
              "      <td id=\"T_3fc4b_row10_col12\" class=\"data row10 col12\" >253</td>\n",
              "      <td id=\"T_3fc4b_row10_col13\" class=\"data row10 col13\" >253</td>\n",
              "      <td id=\"T_3fc4b_row10_col14\" class=\"data row10 col14\" >253</td>\n",
              "      <td id=\"T_3fc4b_row10_col15\" class=\"data row10 col15\" >187</td>\n",
              "      <td id=\"T_3fc4b_row10_col16\" class=\"data row10 col16\" >22</td>\n",
              "      <td id=\"T_3fc4b_row10_col17\" class=\"data row10 col17\" >0</td>\n",
              "    </tr>\n",
              "    <tr>\n",
              "      <th id=\"T_3fc4b_level0_row11\" class=\"row_heading level0 row11\" >11</th>\n",
              "      <td id=\"T_3fc4b_row11_col0\" class=\"data row11 col0\" >0</td>\n",
              "      <td id=\"T_3fc4b_row11_col1\" class=\"data row11 col1\" >0</td>\n",
              "      <td id=\"T_3fc4b_row11_col2\" class=\"data row11 col2\" >0</td>\n",
              "      <td id=\"T_3fc4b_row11_col3\" class=\"data row11 col3\" >0</td>\n",
              "      <td id=\"T_3fc4b_row11_col4\" class=\"data row11 col4\" >0</td>\n",
              "      <td id=\"T_3fc4b_row11_col5\" class=\"data row11 col5\" >0</td>\n",
              "      <td id=\"T_3fc4b_row11_col6\" class=\"data row11 col6\" >0</td>\n",
              "      <td id=\"T_3fc4b_row11_col7\" class=\"data row11 col7\" >0</td>\n",
              "      <td id=\"T_3fc4b_row11_col8\" class=\"data row11 col8\" >0</td>\n",
              "      <td id=\"T_3fc4b_row11_col9\" class=\"data row11 col9\" >0</td>\n",
              "      <td id=\"T_3fc4b_row11_col10\" class=\"data row11 col10\" >9</td>\n",
              "      <td id=\"T_3fc4b_row11_col11\" class=\"data row11 col11\" >51</td>\n",
              "      <td id=\"T_3fc4b_row11_col12\" class=\"data row11 col12\" >119</td>\n",
              "      <td id=\"T_3fc4b_row11_col13\" class=\"data row11 col13\" >253</td>\n",
              "      <td id=\"T_3fc4b_row11_col14\" class=\"data row11 col14\" >253</td>\n",
              "      <td id=\"T_3fc4b_row11_col15\" class=\"data row11 col15\" >253</td>\n",
              "      <td id=\"T_3fc4b_row11_col16\" class=\"data row11 col16\" >76</td>\n",
              "      <td id=\"T_3fc4b_row11_col17\" class=\"data row11 col17\" >0</td>\n",
              "    </tr>\n",
              "    <tr>\n",
              "      <th id=\"T_3fc4b_level0_row12\" class=\"row_heading level0 row12\" >12</th>\n",
              "      <td id=\"T_3fc4b_row12_col0\" class=\"data row12 col0\" >0</td>\n",
              "      <td id=\"T_3fc4b_row12_col1\" class=\"data row12 col1\" >0</td>\n",
              "      <td id=\"T_3fc4b_row12_col2\" class=\"data row12 col2\" >0</td>\n",
              "      <td id=\"T_3fc4b_row12_col3\" class=\"data row12 col3\" >0</td>\n",
              "      <td id=\"T_3fc4b_row12_col4\" class=\"data row12 col4\" >0</td>\n",
              "      <td id=\"T_3fc4b_row12_col5\" class=\"data row12 col5\" >0</td>\n",
              "      <td id=\"T_3fc4b_row12_col6\" class=\"data row12 col6\" >0</td>\n",
              "      <td id=\"T_3fc4b_row12_col7\" class=\"data row12 col7\" >0</td>\n",
              "      <td id=\"T_3fc4b_row12_col8\" class=\"data row12 col8\" >0</td>\n",
              "      <td id=\"T_3fc4b_row12_col9\" class=\"data row12 col9\" >0</td>\n",
              "      <td id=\"T_3fc4b_row12_col10\" class=\"data row12 col10\" >0</td>\n",
              "      <td id=\"T_3fc4b_row12_col11\" class=\"data row12 col11\" >0</td>\n",
              "      <td id=\"T_3fc4b_row12_col12\" class=\"data row12 col12\" >1</td>\n",
              "      <td id=\"T_3fc4b_row12_col13\" class=\"data row12 col13\" >183</td>\n",
              "      <td id=\"T_3fc4b_row12_col14\" class=\"data row12 col14\" >253</td>\n",
              "      <td id=\"T_3fc4b_row12_col15\" class=\"data row12 col15\" >253</td>\n",
              "      <td id=\"T_3fc4b_row12_col16\" class=\"data row12 col16\" >139</td>\n",
              "      <td id=\"T_3fc4b_row12_col17\" class=\"data row12 col17\" >0</td>\n",
              "    </tr>\n",
              "    <tr>\n",
              "      <th id=\"T_3fc4b_level0_row13\" class=\"row_heading level0 row13\" >13</th>\n",
              "      <td id=\"T_3fc4b_row13_col0\" class=\"data row13 col0\" >0</td>\n",
              "      <td id=\"T_3fc4b_row13_col1\" class=\"data row13 col1\" >0</td>\n",
              "      <td id=\"T_3fc4b_row13_col2\" class=\"data row13 col2\" >0</td>\n",
              "      <td id=\"T_3fc4b_row13_col3\" class=\"data row13 col3\" >0</td>\n",
              "      <td id=\"T_3fc4b_row13_col4\" class=\"data row13 col4\" >0</td>\n",
              "      <td id=\"T_3fc4b_row13_col5\" class=\"data row13 col5\" >0</td>\n",
              "      <td id=\"T_3fc4b_row13_col6\" class=\"data row13 col6\" >0</td>\n",
              "      <td id=\"T_3fc4b_row13_col7\" class=\"data row13 col7\" >0</td>\n",
              "      <td id=\"T_3fc4b_row13_col8\" class=\"data row13 col8\" >0</td>\n",
              "      <td id=\"T_3fc4b_row13_col9\" class=\"data row13 col9\" >0</td>\n",
              "      <td id=\"T_3fc4b_row13_col10\" class=\"data row13 col10\" >0</td>\n",
              "      <td id=\"T_3fc4b_row13_col11\" class=\"data row13 col11\" >0</td>\n",
              "      <td id=\"T_3fc4b_row13_col12\" class=\"data row13 col12\" >0</td>\n",
              "      <td id=\"T_3fc4b_row13_col13\" class=\"data row13 col13\" >182</td>\n",
              "      <td id=\"T_3fc4b_row13_col14\" class=\"data row13 col14\" >253</td>\n",
              "      <td id=\"T_3fc4b_row13_col15\" class=\"data row13 col15\" >253</td>\n",
              "      <td id=\"T_3fc4b_row13_col16\" class=\"data row13 col16\" >104</td>\n",
              "      <td id=\"T_3fc4b_row13_col17\" class=\"data row13 col17\" >0</td>\n",
              "    </tr>\n",
              "    <tr>\n",
              "      <th id=\"T_3fc4b_level0_row14\" class=\"row_heading level0 row14\" >14</th>\n",
              "      <td id=\"T_3fc4b_row14_col0\" class=\"data row14 col0\" >0</td>\n",
              "      <td id=\"T_3fc4b_row14_col1\" class=\"data row14 col1\" >0</td>\n",
              "      <td id=\"T_3fc4b_row14_col2\" class=\"data row14 col2\" >0</td>\n",
              "      <td id=\"T_3fc4b_row14_col3\" class=\"data row14 col3\" >0</td>\n",
              "      <td id=\"T_3fc4b_row14_col4\" class=\"data row14 col4\" >0</td>\n",
              "      <td id=\"T_3fc4b_row14_col5\" class=\"data row14 col5\" >0</td>\n",
              "      <td id=\"T_3fc4b_row14_col6\" class=\"data row14 col6\" >0</td>\n",
              "      <td id=\"T_3fc4b_row14_col7\" class=\"data row14 col7\" >0</td>\n",
              "      <td id=\"T_3fc4b_row14_col8\" class=\"data row14 col8\" >0</td>\n",
              "      <td id=\"T_3fc4b_row14_col9\" class=\"data row14 col9\" >0</td>\n",
              "      <td id=\"T_3fc4b_row14_col10\" class=\"data row14 col10\" >0</td>\n",
              "      <td id=\"T_3fc4b_row14_col11\" class=\"data row14 col11\" >0</td>\n",
              "      <td id=\"T_3fc4b_row14_col12\" class=\"data row14 col12\" >85</td>\n",
              "      <td id=\"T_3fc4b_row14_col13\" class=\"data row14 col13\" >249</td>\n",
              "      <td id=\"T_3fc4b_row14_col14\" class=\"data row14 col14\" >253</td>\n",
              "      <td id=\"T_3fc4b_row14_col15\" class=\"data row14 col15\" >253</td>\n",
              "      <td id=\"T_3fc4b_row14_col16\" class=\"data row14 col16\" >36</td>\n",
              "      <td id=\"T_3fc4b_row14_col17\" class=\"data row14 col17\" >0</td>\n",
              "    </tr>\n",
              "    <tr>\n",
              "      <th id=\"T_3fc4b_level0_row15\" class=\"row_heading level0 row15\" >15</th>\n",
              "      <td id=\"T_3fc4b_row15_col0\" class=\"data row15 col0\" >0</td>\n",
              "      <td id=\"T_3fc4b_row15_col1\" class=\"data row15 col1\" >0</td>\n",
              "      <td id=\"T_3fc4b_row15_col2\" class=\"data row15 col2\" >0</td>\n",
              "      <td id=\"T_3fc4b_row15_col3\" class=\"data row15 col3\" >0</td>\n",
              "      <td id=\"T_3fc4b_row15_col4\" class=\"data row15 col4\" >0</td>\n",
              "      <td id=\"T_3fc4b_row15_col5\" class=\"data row15 col5\" >0</td>\n",
              "      <td id=\"T_3fc4b_row15_col6\" class=\"data row15 col6\" >0</td>\n",
              "      <td id=\"T_3fc4b_row15_col7\" class=\"data row15 col7\" >0</td>\n",
              "      <td id=\"T_3fc4b_row15_col8\" class=\"data row15 col8\" >0</td>\n",
              "      <td id=\"T_3fc4b_row15_col9\" class=\"data row15 col9\" >0</td>\n",
              "      <td id=\"T_3fc4b_row15_col10\" class=\"data row15 col10\" >0</td>\n",
              "      <td id=\"T_3fc4b_row15_col11\" class=\"data row15 col11\" >60</td>\n",
              "      <td id=\"T_3fc4b_row15_col12\" class=\"data row15 col12\" >214</td>\n",
              "      <td id=\"T_3fc4b_row15_col13\" class=\"data row15 col13\" >253</td>\n",
              "      <td id=\"T_3fc4b_row15_col14\" class=\"data row15 col14\" >253</td>\n",
              "      <td id=\"T_3fc4b_row15_col15\" class=\"data row15 col15\" >173</td>\n",
              "      <td id=\"T_3fc4b_row15_col16\" class=\"data row15 col16\" >11</td>\n",
              "      <td id=\"T_3fc4b_row15_col17\" class=\"data row15 col17\" >0</td>\n",
              "    </tr>\n",
              "    <tr>\n",
              "      <th id=\"T_3fc4b_level0_row16\" class=\"row_heading level0 row16\" >16</th>\n",
              "      <td id=\"T_3fc4b_row16_col0\" class=\"data row16 col0\" >0</td>\n",
              "      <td id=\"T_3fc4b_row16_col1\" class=\"data row16 col1\" >0</td>\n",
              "      <td id=\"T_3fc4b_row16_col2\" class=\"data row16 col2\" >0</td>\n",
              "      <td id=\"T_3fc4b_row16_col3\" class=\"data row16 col3\" >0</td>\n",
              "      <td id=\"T_3fc4b_row16_col4\" class=\"data row16 col4\" >0</td>\n",
              "      <td id=\"T_3fc4b_row16_col5\" class=\"data row16 col5\" >0</td>\n",
              "      <td id=\"T_3fc4b_row16_col6\" class=\"data row16 col6\" >0</td>\n",
              "      <td id=\"T_3fc4b_row16_col7\" class=\"data row16 col7\" >0</td>\n",
              "      <td id=\"T_3fc4b_row16_col8\" class=\"data row16 col8\" >0</td>\n",
              "      <td id=\"T_3fc4b_row16_col9\" class=\"data row16 col9\" >0</td>\n",
              "      <td id=\"T_3fc4b_row16_col10\" class=\"data row16 col10\" >98</td>\n",
              "      <td id=\"T_3fc4b_row16_col11\" class=\"data row16 col11\" >247</td>\n",
              "      <td id=\"T_3fc4b_row16_col12\" class=\"data row16 col12\" >253</td>\n",
              "      <td id=\"T_3fc4b_row16_col13\" class=\"data row16 col13\" >253</td>\n",
              "      <td id=\"T_3fc4b_row16_col14\" class=\"data row16 col14\" >226</td>\n",
              "      <td id=\"T_3fc4b_row16_col15\" class=\"data row16 col15\" >9</td>\n",
              "      <td id=\"T_3fc4b_row16_col16\" class=\"data row16 col16\" >0</td>\n",
              "      <td id=\"T_3fc4b_row16_col17\" class=\"data row16 col17\" >0</td>\n",
              "    </tr>\n",
              "    <tr>\n",
              "      <th id=\"T_3fc4b_level0_row17\" class=\"row_heading level0 row17\" >17</th>\n",
              "      <td id=\"T_3fc4b_row17_col0\" class=\"data row17 col0\" >0</td>\n",
              "      <td id=\"T_3fc4b_row17_col1\" class=\"data row17 col1\" >0</td>\n",
              "      <td id=\"T_3fc4b_row17_col2\" class=\"data row17 col2\" >0</td>\n",
              "      <td id=\"T_3fc4b_row17_col3\" class=\"data row17 col3\" >0</td>\n",
              "      <td id=\"T_3fc4b_row17_col4\" class=\"data row17 col4\" >0</td>\n",
              "      <td id=\"T_3fc4b_row17_col5\" class=\"data row17 col5\" >0</td>\n",
              "      <td id=\"T_3fc4b_row17_col6\" class=\"data row17 col6\" >0</td>\n",
              "      <td id=\"T_3fc4b_row17_col7\" class=\"data row17 col7\" >0</td>\n",
              "      <td id=\"T_3fc4b_row17_col8\" class=\"data row17 col8\" >42</td>\n",
              "      <td id=\"T_3fc4b_row17_col9\" class=\"data row17 col9\" >150</td>\n",
              "      <td id=\"T_3fc4b_row17_col10\" class=\"data row17 col10\" >252</td>\n",
              "      <td id=\"T_3fc4b_row17_col11\" class=\"data row17 col11\" >253</td>\n",
              "      <td id=\"T_3fc4b_row17_col12\" class=\"data row17 col12\" >253</td>\n",
              "      <td id=\"T_3fc4b_row17_col13\" class=\"data row17 col13\" >233</td>\n",
              "      <td id=\"T_3fc4b_row17_col14\" class=\"data row17 col14\" >53</td>\n",
              "      <td id=\"T_3fc4b_row17_col15\" class=\"data row17 col15\" >0</td>\n",
              "      <td id=\"T_3fc4b_row17_col16\" class=\"data row17 col16\" >0</td>\n",
              "      <td id=\"T_3fc4b_row17_col17\" class=\"data row17 col17\" >0</td>\n",
              "    </tr>\n",
              "    <tr>\n",
              "      <th id=\"T_3fc4b_level0_row18\" class=\"row_heading level0 row18\" >18</th>\n",
              "      <td id=\"T_3fc4b_row18_col0\" class=\"data row18 col0\" >0</td>\n",
              "      <td id=\"T_3fc4b_row18_col1\" class=\"data row18 col1\" >0</td>\n",
              "      <td id=\"T_3fc4b_row18_col2\" class=\"data row18 col2\" >42</td>\n",
              "      <td id=\"T_3fc4b_row18_col3\" class=\"data row18 col3\" >115</td>\n",
              "      <td id=\"T_3fc4b_row18_col4\" class=\"data row18 col4\" >42</td>\n",
              "      <td id=\"T_3fc4b_row18_col5\" class=\"data row18 col5\" >60</td>\n",
              "      <td id=\"T_3fc4b_row18_col6\" class=\"data row18 col6\" >115</td>\n",
              "      <td id=\"T_3fc4b_row18_col7\" class=\"data row18 col7\" >159</td>\n",
              "      <td id=\"T_3fc4b_row18_col8\" class=\"data row18 col8\" >240</td>\n",
              "      <td id=\"T_3fc4b_row18_col9\" class=\"data row18 col9\" >253</td>\n",
              "      <td id=\"T_3fc4b_row18_col10\" class=\"data row18 col10\" >253</td>\n",
              "      <td id=\"T_3fc4b_row18_col11\" class=\"data row18 col11\" >250</td>\n",
              "      <td id=\"T_3fc4b_row18_col12\" class=\"data row18 col12\" >175</td>\n",
              "      <td id=\"T_3fc4b_row18_col13\" class=\"data row18 col13\" >25</td>\n",
              "      <td id=\"T_3fc4b_row18_col14\" class=\"data row18 col14\" >0</td>\n",
              "      <td id=\"T_3fc4b_row18_col15\" class=\"data row18 col15\" >0</td>\n",
              "      <td id=\"T_3fc4b_row18_col16\" class=\"data row18 col16\" >0</td>\n",
              "      <td id=\"T_3fc4b_row18_col17\" class=\"data row18 col17\" >0</td>\n",
              "    </tr>\n",
              "    <tr>\n",
              "      <th id=\"T_3fc4b_level0_row19\" class=\"row_heading level0 row19\" >19</th>\n",
              "      <td id=\"T_3fc4b_row19_col0\" class=\"data row19 col0\" >0</td>\n",
              "      <td id=\"T_3fc4b_row19_col1\" class=\"data row19 col1\" >0</td>\n",
              "      <td id=\"T_3fc4b_row19_col2\" class=\"data row19 col2\" >187</td>\n",
              "      <td id=\"T_3fc4b_row19_col3\" class=\"data row19 col3\" >253</td>\n",
              "      <td id=\"T_3fc4b_row19_col4\" class=\"data row19 col4\" >253</td>\n",
              "      <td id=\"T_3fc4b_row19_col5\" class=\"data row19 col5\" >253</td>\n",
              "      <td id=\"T_3fc4b_row19_col6\" class=\"data row19 col6\" >253</td>\n",
              "      <td id=\"T_3fc4b_row19_col7\" class=\"data row19 col7\" >253</td>\n",
              "      <td id=\"T_3fc4b_row19_col8\" class=\"data row19 col8\" >253</td>\n",
              "      <td id=\"T_3fc4b_row19_col9\" class=\"data row19 col9\" >253</td>\n",
              "      <td id=\"T_3fc4b_row19_col10\" class=\"data row19 col10\" >197</td>\n",
              "      <td id=\"T_3fc4b_row19_col11\" class=\"data row19 col11\" >86</td>\n",
              "      <td id=\"T_3fc4b_row19_col12\" class=\"data row19 col12\" >0</td>\n",
              "      <td id=\"T_3fc4b_row19_col13\" class=\"data row19 col13\" >0</td>\n",
              "      <td id=\"T_3fc4b_row19_col14\" class=\"data row19 col14\" >0</td>\n",
              "      <td id=\"T_3fc4b_row19_col15\" class=\"data row19 col15\" >0</td>\n",
              "      <td id=\"T_3fc4b_row19_col16\" class=\"data row19 col16\" >0</td>\n",
              "      <td id=\"T_3fc4b_row19_col17\" class=\"data row19 col17\" >0</td>\n",
              "    </tr>\n",
              "    <tr>\n",
              "      <th id=\"T_3fc4b_level0_row20\" class=\"row_heading level0 row20\" >20</th>\n",
              "      <td id=\"T_3fc4b_row20_col0\" class=\"data row20 col0\" >0</td>\n",
              "      <td id=\"T_3fc4b_row20_col1\" class=\"data row20 col1\" >0</td>\n",
              "      <td id=\"T_3fc4b_row20_col2\" class=\"data row20 col2\" >103</td>\n",
              "      <td id=\"T_3fc4b_row20_col3\" class=\"data row20 col3\" >253</td>\n",
              "      <td id=\"T_3fc4b_row20_col4\" class=\"data row20 col4\" >253</td>\n",
              "      <td id=\"T_3fc4b_row20_col5\" class=\"data row20 col5\" >253</td>\n",
              "      <td id=\"T_3fc4b_row20_col6\" class=\"data row20 col6\" >253</td>\n",
              "      <td id=\"T_3fc4b_row20_col7\" class=\"data row20 col7\" >253</td>\n",
              "      <td id=\"T_3fc4b_row20_col8\" class=\"data row20 col8\" >232</td>\n",
              "      <td id=\"T_3fc4b_row20_col9\" class=\"data row20 col9\" >67</td>\n",
              "      <td id=\"T_3fc4b_row20_col10\" class=\"data row20 col10\" >1</td>\n",
              "      <td id=\"T_3fc4b_row20_col11\" class=\"data row20 col11\" >0</td>\n",
              "      <td id=\"T_3fc4b_row20_col12\" class=\"data row20 col12\" >0</td>\n",
              "      <td id=\"T_3fc4b_row20_col13\" class=\"data row20 col13\" >0</td>\n",
              "      <td id=\"T_3fc4b_row20_col14\" class=\"data row20 col14\" >0</td>\n",
              "      <td id=\"T_3fc4b_row20_col15\" class=\"data row20 col15\" >0</td>\n",
              "      <td id=\"T_3fc4b_row20_col16\" class=\"data row20 col16\" >0</td>\n",
              "      <td id=\"T_3fc4b_row20_col17\" class=\"data row20 col17\" >0</td>\n",
              "    </tr>\n",
              "    <tr>\n",
              "      <th id=\"T_3fc4b_level0_row21\" class=\"row_heading level0 row21\" >21</th>\n",
              "      <td id=\"T_3fc4b_row21_col0\" class=\"data row21 col0\" >0</td>\n",
              "      <td id=\"T_3fc4b_row21_col1\" class=\"data row21 col1\" >0</td>\n",
              "      <td id=\"T_3fc4b_row21_col2\" class=\"data row21 col2\" >0</td>\n",
              "      <td id=\"T_3fc4b_row21_col3\" class=\"data row21 col3\" >0</td>\n",
              "      <td id=\"T_3fc4b_row21_col4\" class=\"data row21 col4\" >0</td>\n",
              "      <td id=\"T_3fc4b_row21_col5\" class=\"data row21 col5\" >0</td>\n",
              "      <td id=\"T_3fc4b_row21_col6\" class=\"data row21 col6\" >0</td>\n",
              "      <td id=\"T_3fc4b_row21_col7\" class=\"data row21 col7\" >0</td>\n",
              "      <td id=\"T_3fc4b_row21_col8\" class=\"data row21 col8\" >0</td>\n",
              "      <td id=\"T_3fc4b_row21_col9\" class=\"data row21 col9\" >0</td>\n",
              "      <td id=\"T_3fc4b_row21_col10\" class=\"data row21 col10\" >0</td>\n",
              "      <td id=\"T_3fc4b_row21_col11\" class=\"data row21 col11\" >0</td>\n",
              "      <td id=\"T_3fc4b_row21_col12\" class=\"data row21 col12\" >0</td>\n",
              "      <td id=\"T_3fc4b_row21_col13\" class=\"data row21 col13\" >0</td>\n",
              "      <td id=\"T_3fc4b_row21_col14\" class=\"data row21 col14\" >0</td>\n",
              "      <td id=\"T_3fc4b_row21_col15\" class=\"data row21 col15\" >0</td>\n",
              "      <td id=\"T_3fc4b_row21_col16\" class=\"data row21 col16\" >0</td>\n",
              "      <td id=\"T_3fc4b_row21_col17\" class=\"data row21 col17\" >0</td>\n",
              "    </tr>\n",
              "  </tbody>\n",
              "</table>\n"
            ]
          },
          "metadata": {},
          "execution_count": 10
        }
      ]
    },
    {
      "cell_type": "code",
      "source": [
        "#har bir rasm tensorfaylga o'tkazildi. DL uchun\n",
        "three_tensors = [tensor(Image.open(i)) for i in threes]\n",
        "seven_tensors = [tensor(Image.open(i)) for i in sevens]\n",
        "len(three_tensors), len(seven_tensors)"
      ],
      "metadata": {
        "colab": {
          "base_uri": "https://localhost:8080/"
        },
        "id": "-Losqiq4gBFP",
        "outputId": "5f2e9d95-af64-4ae5-ba60-1dd49c4139ea"
      },
      "execution_count": null,
      "outputs": [
        {
          "output_type": "execute_result",
          "data": {
            "text/plain": [
              "(6131, 6265)"
            ]
          },
          "metadata": {},
          "execution_count": 11
        }
      ]
    },
    {
      "cell_type": "code",
      "source": [
        "#rasmni tekshirish\n",
        "show_image(three_tensors[5])"
      ],
      "metadata": {
        "colab": {
          "base_uri": "https://localhost:8080/",
          "height": 131
        },
        "id": "7wN9lWsqgBA-",
        "outputId": "8b281943-10d5-48c2-d4b7-a19acffb6d22"
      },
      "execution_count": null,
      "outputs": [
        {
          "output_type": "execute_result",
          "data": {
            "text/plain": [
              "<Axes: >"
            ]
          },
          "metadata": {},
          "execution_count": 12
        },
        {
          "output_type": "display_data",
          "data": {
            "text/plain": [
              "<Figure size 100x100 with 1 Axes>"
            ],
            "image/png": "[encoded data removed]"
          },
          "metadata": {}
        }
      ]
    },
    {
      "cell_type": "code",
      "source": [
        "#rasmlarni bitta to'plamga yig'ildi va har bir rasmni qiymatini 0 va 1 oralig'iga olib\n",
        "stacked_threes = torch.stack(three_tensors).float()/255\n",
        "stacked_sevens = torch.stack(seven_tensors).float()/255\n",
        "stacked_sevens.shape"
      ],
      "metadata": {
        "colab": {
          "base_uri": "https://localhost:8080/"
        },
        "id": "7eoZwn87gA8Y",
        "outputId": "b6d262bd-37d5-4d66-d78d-8396894abce7"
      },
      "execution_count": null,
      "outputs": [
        {
          "output_type": "execute_result",
          "data": {
            "text/plain": [
              "torch.Size([6265, 28, 28])"
            ]
          },
          "metadata": {},
          "execution_count": 13
        }
      ]
    },
    {
      "cell_type": "code",
      "source": [
        "#0 linchi o'q bo'ylab o'rtachasi hisoblandi\n",
        "mean3 = stacked_threes.mean(0)\n",
        "mean7 = stacked_sevens.mean(0)\n",
        "s_3 = mean3[1]"
      ],
      "metadata": {
        "id": "1Fs-T6BOgA4D"
      },
      "execution_count": null,
      "outputs": []
    },
    {
      "cell_type": "code",
      "source": [
        "#o'rtacha rasmni ko'rish\n",
        "show_image(mean3)"
      ],
      "metadata": {
        "colab": {
          "base_uri": "https://localhost:8080/",
          "height": 131
        },
        "id": "5Dj-KbJXgAwb",
        "outputId": "ae2ff698-9d4c-47ba-e1f7-c900dba36dd2"
      },
      "execution_count": null,
      "outputs": [
        {
          "output_type": "execute_result",
          "data": {
            "text/plain": [
              "<Axes: >"
            ]
          },
          "metadata": {},
          "execution_count": 16
        },
        {
          "output_type": "display_data",
          "data": {
            "text/plain": [
              "<Figure size 100x100 with 1 Axes>"
            ],
            "image/png": "[encoded data removed]"
          },
          "metadata": {}
        }
      ]
    },
    {
      "cell_type": "code",
      "source": [
        "#xatolikni hisoblash. 3 ni 3 ga o'xshashi\n",
        "mae = (s_3 - mean3).abs().mean()\n",
        "\n",
        "rmse = ((s_3 - mean3) ** 2).mean().sqrt()\n",
        "\n",
        "mae, rmse"
      ],
      "metadata": {
        "colab": {
          "base_uri": "https://localhost:8080/"
        },
        "id": "fCNhoKa-gAse",
        "outputId": "49b6129c-eddf-4ffa-cbd9-da60264eb694"
      },
      "execution_count": null,
      "outputs": [
        {
          "output_type": "execute_result",
          "data": {
            "text/plain": [
              "(tensor(0.1415), tensor(0.2525))"
            ]
          },
          "metadata": {},
          "execution_count": 17
        }
      ]
    },
    {
      "cell_type": "code",
      "source": [
        "#xatolikni hisoblash. 3 ni 7 ga o'xshashi\n",
        "mae = (s_3 - mean7).abs().mean()\n",
        "\n",
        "rmse = ((s_3 - mean7) ** 2).mean().sqrt()\n",
        "\n",
        "mae, rmse"
      ],
      "metadata": {
        "colab": {
          "base_uri": "https://localhost:8080/"
        },
        "id": "fnNjpY37gAos",
        "outputId": "6608d74d-2d57-4c05-f7e1-cb214acd6475"
      },
      "execution_count": null,
      "outputs": [
        {
          "output_type": "execute_result",
          "data": {
            "text/plain": [
              "(tensor(0.1145), tensor(0.2245))"
            ]
          },
          "metadata": {},
          "execution_count": 18
        }
      ]
    },
    {
      "cell_type": "code",
      "source": [
        "#list, array va tensor farqi\n",
        "data = [[1, 2, 3], [4, 5, 6]]\n",
        "arr = array(data)\n",
        "tns = tensor(data)"
      ],
      "metadata": {
        "id": "tRcuubFgHvtu"
      },
      "execution_count": null,
      "outputs": []
    },
    {
      "cell_type": "code",
      "source": [
        "data"
      ],
      "metadata": {
        "colab": {
          "base_uri": "https://localhost:8080/"
        },
        "id": "1dmhZsAjHvqK",
        "outputId": "ca3e8688-95de-4879-e18c-ff7d1b4dd101"
      },
      "execution_count": null,
      "outputs": [
        {
          "output_type": "execute_result",
          "data": {
            "text/plain": [
              "[[1, 2, 3], [4, 5, 6]]"
            ]
          },
          "metadata": {},
          "execution_count": 20
        }
      ]
    },
    {
      "cell_type": "code",
      "source": [
        "arr"
      ],
      "metadata": {
        "colab": {
          "base_uri": "https://localhost:8080/"
        },
        "id": "BJWNjBaCHvm8",
        "outputId": "2f5e2844-4f35-45ac-ce4a-66c7ba2f49a5"
      },
      "execution_count": null,
      "outputs": [
        {
          "output_type": "execute_result",
          "data": {
            "text/plain": [
              "array([[1, 2, 3],\n",
              "       [4, 5, 6]])"
            ]
          },
          "metadata": {},
          "execution_count": 21
        }
      ]
    },
    {
      "cell_type": "code",
      "source": [
        "tns"
      ],
      "metadata": {
        "colab": {
          "base_uri": "https://localhost:8080/"
        },
        "id": "d5U-xC0aHvkP",
        "outputId": "b7073d42-163f-4450-8622-2399431a5a2a"
      },
      "execution_count": null,
      "outputs": [
        {
          "output_type": "execute_result",
          "data": {
            "text/plain": [
              "tensor([[1, 2, 3],\n",
              "        [4, 5, 6]])"
            ]
          },
          "metadata": {},
          "execution_count": 22
        }
      ]
    },
    {
      "cell_type": "code",
      "source": [
        "#test uchun validatsiya rasmi yuklandi\n",
        "valid_3_tens = torch.stack([tensor(Image.open(i)) for i in (path/'valid'/'3').ls()])\n",
        "valid_3_tens = valid_3_tens.float()/255\n",
        "\n",
        "valid_7_tens = torch.stack([tensor(Image.open(i)) for i in (path/'valid'/'7').ls()])\n",
        "valid_7_tens = valid_7_tens.float()/255\n",
        "\n",
        "valid_3_tens.shape, valid_7_tens.shape"
      ],
      "metadata": {
        "colab": {
          "base_uri": "https://localhost:8080/"
        },
        "id": "0LP04Wc9HvhI",
        "outputId": "9ff5c3b4-be21-4863-eb99-8d88959032d8"
      },
      "execution_count": null,
      "outputs": [
        {
          "output_type": "execute_result",
          "data": {
            "text/plain": [
              "(torch.Size([1010, 28, 28]), torch.Size([1028, 28, 28]))"
            ]
          },
          "metadata": {},
          "execution_count": 23
        }
      ]
    },
    {
      "cell_type": "code",
      "source": [
        "#bitta rasm uchun o'rtacha xatolik\n",
        "def mae(a, b):\n",
        "  return (a - b).abs().mean((-1, -2))\n",
        "\n",
        "mae(s_3, mean3)"
      ],
      "metadata": {
        "colab": {
          "base_uri": "https://localhost:8080/"
        },
        "id": "2ZcdZghVHveK",
        "outputId": "b7c45c1d-775d-486e-bfcf-3c86ed9b9b9b"
      },
      "execution_count": null,
      "outputs": [
        {
          "output_type": "execute_result",
          "data": {
            "text/plain": [
              "tensor(0.1415)"
            ]
          },
          "metadata": {},
          "execution_count": 24
        }
      ]
    },
    {
      "cell_type": "code",
      "source": [
        "#hamma rasmlar uchun hatoliklar listi\n",
        "valid_3_errors = mae(valid_3_tens, mean3)\n",
        "valid_7_errors = mae(valid_7_tens, mean7)\n",
        "\n",
        "valid_3_errors, valid_3_errors.shape"
      ],
      "metadata": {
        "colab": {
          "base_uri": "https://localhost:8080/"
        },
        "id": "Wa500J2XIbDk",
        "outputId": "32df1be0-31d3-4089-d565-d23d8d41eb50"
      },
      "execution_count": null,
      "outputs": [
        {
          "output_type": "execute_result",
          "data": {
            "text/plain": [
              "(tensor([0.1355, 0.1332, 0.1430,  ..., 0.1299, 0.1408, 0.1270]),\n",
              " torch.Size([1010]))"
            ]
          },
          "metadata": {},
          "execution_count": 25
        }
      ]
    },
    {
      "cell_type": "code",
      "source": [
        "#3 yoki 7 ni to'g'ri predict qilayotganini tekshirish\n",
        "def is_3(x):\n",
        "  return mae(x, mean3) < mae(x, mean7)\n",
        "\n",
        "def is_7(x):\n",
        "  return mae(x, mean7) < mae(x, mean3)\n",
        "\n",
        "is_3(s_3), is_3(s_3).float()"
      ],
      "metadata": {
        "colab": {
          "base_uri": "https://localhost:8080/"
        },
        "id": "Ji3dFpUUIa_U",
        "outputId": "3acfb8aa-6f81-4671-f403-cb81593f54b9"
      },
      "execution_count": null,
      "outputs": [
        {
          "output_type": "execute_result",
          "data": {
            "text/plain": [
              "(tensor(False), tensor(0.))"
            ]
          },
          "metadata": {},
          "execution_count": 26
        }
      ]
    },
    {
      "cell_type": "code",
      "source": [
        "#accuracy orqali tekshirish\n",
        "accuracy_3s = is_3(valid_3_tens).float().mean()\n",
        "accuracy_7s = is_7(valid_7_tens).float().mean()\n",
        "\n",
        "accuracy_3s, accuracy_7s, (accuracy_3s + accuracy_7s) / 2"
      ],
      "metadata": {
        "colab": {
          "base_uri": "https://localhost:8080/"
        },
        "id": "ompTW29-Ia7Y",
        "outputId": "e549cd36-2c02-4cf2-e3d3-dfffdd2507fa"
      },
      "execution_count": null,
      "outputs": [
        {
          "output_type": "execute_result",
          "data": {
            "text/plain": [
              "(tensor(0.9168), tensor(0.9854), tensor(0.9511))"
            ]
          },
          "metadata": {},
          "execution_count": 27
        }
      ]
    }
  ]
}